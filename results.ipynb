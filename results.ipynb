{
 "cells": [
  {
   "cell_type": "markdown",
   "metadata": {},
   "source": [
    "## Parameter Effects and Variations"
   ]
  },
  {
   "cell_type": "markdown",
   "metadata": {},
   "source": [
    "### Effect of $\\gamma$"
   ]
  },
  {
   "cell_type": "markdown",
   "metadata": {},
   "source": [
    "$\\gamma$ weights the boundary edges against the region edges. A larger $\\gamma$ makes it harder for boundary edges to be cut, placing more importance on continuity over the individual susceptibility of a pixel to belong to the foreground or background\n",
    "\n",
    "**Run 1:** $\\gamma = 50$  \n",
    "<img src=\"out/gamma-1.png\" width=500/>\n",
    "\n",
    "**Run 2:** $\\gamma = 1$  \n",
    "<img src=\"out/gamma-2.png\" width=500/>\n"
   ]
  },
  {
   "cell_type": "markdown",
   "metadata": {},
   "source": [
    "### Effect of four and eight connectivity"
   ]
  },
  {
   "cell_type": "markdown",
   "metadata": {},
   "source": [
    "**Run 1:** Eight-Connectivity  \n",
    "<img src=\"out/connect-1.png\" width=500/>\n",
    "\n",
    "**Run 2:** Four-Connectivity  \n",
    "<img src=\"out/connect-2.png\" width=500/>"
   ]
  },
  {
   "cell_type": "code",
   "execution_count": null,
   "metadata": {},
   "outputs": [],
   "source": []
  },
  {
   "cell_type": "code",
   "execution_count": null,
   "metadata": {},
   "outputs": [],
   "source": []
  }
 ],
 "metadata": {
  "language_info": {
   "name": "python"
  }
 },
 "nbformat": 4,
 "nbformat_minor": 2
}
